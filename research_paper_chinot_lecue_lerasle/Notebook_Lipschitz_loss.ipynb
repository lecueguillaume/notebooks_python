{
 "cells": [
  {
   "cell_type": "markdown",
   "metadata": {},
   "source": [
    "# Notebook \"Statistical learning with Lipschitz and convex loss functions\""
   ]
  },
  {
   "cell_type": "code",
   "execution_count": null,
   "metadata": {
    "collapsed": true
   },
   "outputs": [],
   "source": [
    "import numpy as np\n",
    "import time\n",
    "import matplotlib.pyplot as plt\n",
    "\n",
    "from numpy.linalg import norm\n",
    "from numpy.random import multivariate_normal\n",
    "from numpy.random import randn\n",
    "from sklearn import linear_model, metrics\n",
    "\n",
    "%matplotlib inline"
   ]
  },
  {
   "cell_type": "markdown",
   "metadata": {},
   "source": [
    "Let us assume that $t$ is a linear function of features: $t = \\sum_{i=1}^p \\beta_j X_j$. Let us define $h_{\\beta}(X) = \\frac{1}{1+\\exp(-\\beta^TX)}$. Then we have $\\mathbb{P}(Y_i = 1 | X_i = x_i) = h_{\\beta}(x_i)$. This is equivalent to say that $Y|X=x \\sim Bern(h_{\\beta}(x))$ Such a model allowed to have:\n",
    "$$ \n",
    "    \\log \\frac{\\mathbb{P}(Y=1|X=x)}{\\mathbb{P}(Y=-1|X=x)} = \\sum_{j=1}^p \\beta_j x_j\n",
    "$$\n",
    "Thus, it is a generalized linear model. "
   ]
  },
  {
   "cell_type": "markdown",
   "metadata": {},
   "source": [
    "## No noise: \n",
    "$$ \n",
    "    \\log \\frac{\\mathbb{P}(Y=1|X=x)}{\\mathbb{P}(Y=-1|X=x)} = \\sum_{j=1}^p \\beta_j x_j\n",
    "$$"
   ]
  },
  {
   "cell_type": "code",
   "execution_count": 2,
   "metadata": {
    "collapsed": true
   },
   "outputs": [],
   "source": [
    "def sigmoid(t):\n",
    "    \"\"\"Sigmoid function\"\"\"\n",
    "    return(1/(1+np.exp(-t)))\n",
    "\n",
    "def simu_logistic(coeffs,n_samples):\n",
    "    \"\"\"Simulation of a logistic model with Normal features\"\"\"\n",
    "\n",
    "    X = np.random.normal(size = (n_samples,len(coeffs)))\n",
    "    h_beta = sigmoid(np.dot(X,coeffs)) \n",
    "    Y = np.random.binomial(1, h_beta, size=n_samples) \n",
    "    return(((2*Y)-1),X)"
   ]
  },
  {
   "cell_type": "code",
   "execution_count": 3,
   "metadata": {},
   "outputs": [
    {
     "name": "stdout",
     "output_type": "stream",
     "text": [
      "X shape:  (1000, 50)\n",
      "y shape:  (1000,)\n",
      "X_train shape:  (800, 50)\n",
      "y_train shape:  (800,)\n",
      "X_test shape:  (200, 50)\n",
      "y_test shape:  (200,)\n"
     ]
    },
    {
     "data": {
      "text/plain": [
       "<matplotlib.text.Text at 0x113420550>"
      ]
     },
     "execution_count": 3,
     "metadata": {},
     "output_type": "execute_result"
    },
    {
     "data": {
      "image/png": "[encoded data removed]",
      "text/plain": [
       "<matplotlib.figure.Figure at 0x10d440e48>"
      ]
     },
     "metadata": {},
     "output_type": "display_data"
    }
   ],
   "source": [
    "n_sample = 1000\n",
    "p = 50\n",
    "coeffs = 10*np.random.uniform(size = p) - 5\n",
    "\n",
    "y, X = simu_logistic(coeffs,n_sample)\n",
    "print(\"X shape: \",X.shape)\n",
    "print(\"y shape: \",y.shape)\n",
    "\n",
    "n_train = int(0.8*n_sample)\n",
    "X_train = X[0:n_train,:]\n",
    "y_train = y[0:n_train]\n",
    "\n",
    "X_test = X[n_train:,:]\n",
    "y_test = y[n_train:]\n",
    "\n",
    "print(\"X_train shape: \",X_train.shape)\n",
    "print(\"y_train shape: \",y_train.shape)\n",
    "print(\"X_test shape: \",X_test.shape)\n",
    "print(\"y_test shape: \",y_test.shape)\n",
    "\n",
    "plt.stem(coeffs)\n",
    "plt.title(\"Parameters / Coefficients\")\n",
    "\n"
   ]
  },
  {
   "cell_type": "code",
   "execution_count": 4,
   "metadata": {
    "collapsed": true
   },
   "outputs": [],
   "source": [
    "n_train = int(0.8*n_sample)\n",
    "X_train = X[0:n_train,:]\n",
    "y_train = y[0:n_train]\n",
    "\n",
    "X_test = X[n_train:,:]\n",
    "y_test = y[n_train:]"
   ]
  },
  {
   "cell_type": "code",
   "execution_count": 5,
   "metadata": {},
   "outputs": [
    {
     "name": "stdout",
     "output_type": "stream",
     "text": [
      "Accuracy: 93.5\n"
     ]
    }
   ],
   "source": [
    "from sklearn import linear_model, metrics\n",
    "\n",
    "log = linear_model.LogisticRegression()\n",
    "log.fit(X_train,y_train)\n",
    "predictions = log.predict(X_test)\n",
    "\n",
    "score = metrics.accuracy_score(y_test,predictions)\n",
    "print('Accuracy:', round(score,4)*100)"
   ]
  },
  {
   "cell_type": "code",
   "execution_count": 6,
   "metadata": {
    "collapsed": true
   },
   "outputs": [],
   "source": [
    "def lip_logreg(X,n_samples):\n",
    "    \"\"\"Lipschitz constant for logistic loss\"\"\"\n",
    "    return 1. / (4 * n_samples) * np.linalg.norm(np.dot(np.transpose(X), X), 2)\n",
    "\n",
    "def clever_loss(x):\n",
    "    '''Function that allows to compute the loss even if x is large'''\n",
    "    if x < 0: \n",
    "        return(np.log(1+np.exp(x)))\n",
    "    else:\n",
    "        return(x + np.log(1+np.exp(-x)))\n",
    "\n",
    "def loss_block(X, y, t):\n",
    "    \"\"\"Logistic loss on data data idx\"\"\"\n",
    "    'We have computation issues because of the exponential'\n",
    "    return 1. / X.shape[0] * sum([clever_loss(- y[i] * np.dot(np.transpose(X[i,]), t))\n",
    "                                 for i in range(X.shape[0])]) \n",
    "\n",
    "def excess_loss(X, y, t, t_star):\n",
    "    \"\"\"Excess loss on data data idx whre t_prime is the Oracle\"\"\"\n",
    "    return loss_block(X, y, t)- loss_block(X , y, t_star)\n",
    "\n",
    "def grad_logreg(X, y, t):\n",
    "    \"\"\"Logistic gradient\"\"\"\n",
    "    return - 1 / X.shape[0] *  sum([y[i] / (1. + np.exp(y[i] * np.dot(np.transpose(X[i,]), t))) * np.transpose(X[i,])\n",
    "                  for i in range(X.shape[0])  if (y[i] * np.dot(np.transpose(X[i,]), t)) < 7*np.log(10) ])\n",
    "\n",
    "\n",
    "def partition_block(K,N):\n",
    "    \"\"\" Attribute to each data a block\n",
    "    If -1 then it belongs to any block \"\"\"\n",
    "    idx_block = np.zeros(N)\n",
    "    idx_block[np.arange(N % K)] = np.repeat(-1,N % K)\n",
    "    idx_block[np.arange(N % K , N)] = np.repeat(np.arange(K),int(N/K))\n",
    "    np.random.shuffle(idx_block)\n",
    "    return(idx_block)\n",
    "\n",
    "def median_block(X, y, t_prime, t, K, N):\n",
    "    \"\"\"\n",
    "    Attribute to each data a block\n",
    "    Return data in the median block (where the excess loss is median)\n",
    "    \"\"\"\n",
    "    exc_loss = np.zeros(K)\n",
    "    partition = partition_block(K, N)\n",
    "    for j in np.arange(K):\n",
    "        idx_block = np.where(partition == j)[0]\n",
    "        exc_loss[j] = excess_loss(X[idx_block,:], y[idx_block], t, t_prime)\n",
    "    median_block = np.argsort(exc_loss)[int(K/2)]\n",
    "    return X[np.where(partition == median_block)[0],], y[np.where(partition == median_block)[0]]"
   ]
  },
  {
   "cell_type": "code",
   "execution_count": 7,
   "metadata": {
    "collapsed": true
   },
   "outputs": [],
   "source": [
    "def MOM_ista(X, y, t0, t0_prime, step, K, n_iter=50, t_true = coeffs, verbose=True):\n",
    "    \"\"\"Alternating Gradient Descent Algorithm\"\"\"\n",
    "    \n",
    "    t = t0.copy()\n",
    "    t_prime = t0_prime.copy()\n",
    "      \n",
    "    n_samples, n_features = X.shape\n",
    "    \n",
    "    errors = np.zeros(n_iter)\n",
    "    objectives = np.zeros(n_iter)\n",
    "    \n",
    "    errors[0] = norm(t - t_true) / norm(t_true)\n",
    "    X_block, y_block = median_block(X, y, t, t_prime, K, X.shape[0])\n",
    "    objectives[0] = excess_loss(X_block, y_block, t, t_true)\n",
    "    if verbose:\n",
    "        print (\"Lauching MOM solver...\")\n",
    "        print (' | '.join([name.center(8) for name in [\"it\", \"obj\", \"err\"]]))\n",
    "        \n",
    "        \n",
    "    for k in range(1, n_iter ):\n",
    "        \n",
    "        \n",
    "        \"Ascent in t_prime\"\n",
    "        X_block, y_block = median_block(X, y, t, t_prime, K, X.shape[0])\n",
    "        \n",
    "        t_prime = t_prime - step * grad_logreg(X_block, y_block, t_prime)\n",
    "        \n",
    "        \"Descent in t\"\n",
    "        X_block, y_block = median_block(X, y, t, t_prime, K, X.shape[0])\n",
    "        \n",
    "        t = t - step * grad_logreg(X_block, y_block, t)\n",
    "        \n",
    "        \n",
    "        \"Compute the error and the objective\"\n",
    "        \n",
    "        errors[k] = norm(t - t_true) / norm(t_true)\n",
    "        objectives[k] = excess_loss(X_block, y_block, t, t_true)\n",
    "\n",
    "        if k % 20 == 0 and verbose:\n",
    "            print (' | '.join([(\"%d\" % k).rjust(8), \n",
    "                              (\"%.2e\" % objectives[k]).rjust(8), \n",
    "                              (\"%.2e\" % errors[k]).rjust(8)]))\n",
    "            \n",
    "    return t, t_prime, objectives, errors\n",
    "\n",
    "\n",
    "def prediction_mom(coeff, X_test, y_test,verbose = True):\n",
    "    proba = 1/(1+np.exp(-np.dot(X_test, coeff)))\n",
    "    predictions = np.sign(2*proba-1)\n",
    "    score = metrics.accuracy_score(y_test,predictions)\n",
    "    if verbose:\n",
    "        print(\"Accuracy for MOM Logistic regression: \", score)\n",
    "    return(score)"
   ]
  },
  {
   "cell_type": "code",
   "execution_count": 8,
   "metadata": {},
   "outputs": [
    {
     "name": "stdout",
     "output_type": "stream",
     "text": [
      "Lauching MOM solver...\n",
      "   it    |   obj    |   err   \n",
      "      20 | -7.28e-02 | 7.20e-01\n",
      "      40 | 1.15e-02 | 6.57e-01\n",
      "      60 | 5.82e-03 | 6.15e-01\n",
      "      80 | 1.59e-02 | 5.79e-01\n",
      "Temps d'execution MOM ISTA : 2.601093\n"
     ]
    }
   ],
   "source": [
    "t0 = np.random.random(p)\n",
    "t0_prime = np.random.random(p)\n",
    "n_iter = 100\n",
    "step = 1. / lip_logreg(X,X_train.shape[0])\n",
    "K = 50\n",
    "\n",
    "\n",
    "tmps1=time.clock()\n",
    "mom_ista = MOM_ista(X=X_train, y=y_train, t0=t0, t0_prime= t0_prime, step =step,\n",
    "                    K=K, n_iter=n_iter, t_true = coeffs, verbose=True)\n",
    "tmps2=time.clock()\n",
    "\n",
    "print(\"Temps d'execution MOM ISTA :\", tmps2-tmps1)"
   ]
  },
  {
   "cell_type": "code",
   "execution_count": 9,
   "metadata": {},
   "outputs": [
    {
     "name": "stdout",
     "output_type": "stream",
     "text": [
      "Accuracy for MOM Logistic regression:  0.91\n"
     ]
    },
    {
     "data": {
      "text/plain": [
       "0.91000000000000003"
      ]
     },
     "execution_count": 9,
     "metadata": {},
     "output_type": "execute_result"
    },
    {
     "data": {
      "image/png": "[encoded data removed]",
      "text/plain": [
       "<matplotlib.figure.Figure at 0x113a29240>"
      ]
     },
     "metadata": {},
     "output_type": "display_data"
    },
    {
     "data": {
      "text/plain": [
       "<matplotlib.figure.Figure at 0x113a294a8>"
      ]
     },
     "metadata": {},
     "output_type": "display_data"
    }
   ],
   "source": [
    "f, axarr = plt.subplots(2,2)\n",
    "plt.figure(figsize=(8,10))\n",
    "axarr[0,0].plot(mom_ista[2], 'r-', label= 'ISTA')\n",
    "axarr[1,0].plot(mom_ista[3], 'r-', label= 'ISTA')\n",
    "axarr[0,1].stem(mom_ista[0])\n",
    "axarr[1,1].stem(coeffs)\n",
    "\n",
    "prediction_mom(mom_ista[0],X_test,y_test)"
   ]
  },
  {
   "cell_type": "markdown",
   "metadata": {},
   "source": [
    "### Comments : \n",
    "\n",
    "    - It is possible to accelerate the algorithm and more precisely the computation of the median block. I am doing a loop which is far from being optimal.\n",
    "    - We can use faster algorithm such as the accelerated gradient descent from Nesterov. "
   ]
  },
  {
   "cell_type": "markdown",
   "metadata": {},
   "source": [
    "## Simulation with noise: \n",
    "\n",
    "$$ \n",
    "    \\log \\frac{\\mathbb{P}(Y=1|X=x)}{\\mathbb{P}(Y=-1|X=x)} = \\sum_{j=1}^p \\beta_j x_j + \\xi\n",
    "$$\n",
    "where $\\xi$ denote the noise of the problem and is supposed to be distributed as a strandard gaussian variable."
   ]
  },
  {
   "cell_type": "code",
   "execution_count": 10,
   "metadata": {},
   "outputs": [
    {
     "name": "stdout",
     "output_type": "stream",
     "text": [
      "Accuracy sklearn: 92.5\n",
      "Lauching MOM solver...\n",
      "   it    |   obj    |   err   \n",
      "      20 | -4.18e-02 | 7.02e-01\n",
      "      40 | -2.99e-02 | 6.41e-01\n",
      "Accuracy for MOM Logistic regression:  0.865\n"
     ]
    },
    {
     "data": {
      "text/plain": [
       "0.86499999999999999"
      ]
     },
     "execution_count": 10,
     "metadata": {},
     "output_type": "execute_result"
    }
   ],
   "source": [
    "def simu_noisy_logistic(coeffs,n_samples):\n",
    "    \"\"\"Simulation of a logistic model with Normal features. Noise : centered with variance 1 normal\"\"\"\n",
    "\n",
    "    X = np.random.normal(size = (n_samples,len(coeffs)))\n",
    "    noise = np.random.normal(0,1,n_samples)\n",
    "    h_beta = sigmoid(np.dot(X,coeffs)+ noise) \n",
    "    Y = np.random.binomial(1, h_beta, size=n_samples) \n",
    "    return(((2*Y)-1),X)\n",
    "\n",
    "n_sample = 1000\n",
    "p = 50\n",
    "coeffs = 10*np.random.uniform(size = p) - 5\n",
    "\n",
    "y, X = simu_noisy_logistic(coeffs,n_sample)\n",
    "\n",
    "n_train = int(0.8*n_sample)\n",
    "X_train = X[0:n_train,:]\n",
    "y_train = y[0:n_train]\n",
    "\n",
    "X_test = X[n_train:,:]\n",
    "y_test = y[n_train:]\n",
    "\n",
    "\n",
    "log = linear_model.LogisticRegression()\n",
    "log.fit(X_train,y_train)\n",
    "predictions = log.predict(X_test)\n",
    "\n",
    "score = metrics.accuracy_score(y_test,predictions)\n",
    "print('Accuracy sklearn:', round(score,4)*100)\n",
    "\n",
    "t0 = np.random.random(p)\n",
    "t0_prime = np.random.random(p)\n",
    "n_iter = 60\n",
    "step = 1. / lip_logreg(X,X_train.shape[0])\n",
    "K = 50\n",
    "\n",
    "mom_ista = MOM_ista(X=X_train, y=y_train, t0=t0, t0_prime= t0_prime, step =step,\n",
    "                    K=K, n_iter=n_iter, t_true = coeffs, verbose=True)\n",
    "\n",
    "prediction_mom(mom_ista[0],X_test,y_test)"
   ]
  },
  {
   "cell_type": "markdown",
   "metadata": {},
   "source": [
    "##  Performances with Outliers : \n",
    "\n",
    "We add an increasing number of outliers such that for any outlier $X \\sim \\mathcal T(5)$ and $\\xi \\sim \\mathcal{LN}(0,1)$. A cross validation is performed to have the optmimal number of blocks $K$."
   ]
  },
  {
   "cell_type": "code",
   "execution_count": null,
   "metadata": {
    "collapsed": true
   },
   "outputs": [],
   "source": [
    "def simu_outliers(coeffs,n_outliers):\n",
    "    \"\"\"Simulation of a logistic model with Normal features. Noise : centered with variance 1 normal\"\"\"\n",
    "\n",
    "    X =  X = np.random.lognormal(0,1,(n_outliers, len(n_features)))\n",
    "    noise = np.random.standard_t(5, size=n_outliers)\n",
    "    h_beta = sigmoid(np.dot(X,coeffs)+ noise) \n",
    "    Y = np.random.binomial(1, h_beta, size=n_samples) \n",
    "    return(((2*Y)-1),X)"
   ]
  },
  {
   "cell_type": "code",
   "execution_count": null,
   "metadata": {
    "collapsed": true
   },
   "outputs": [],
   "source": [
    "n_sample = 1000\n",
    "p = 100\n",
    "coeffs = 10*np.random.uniform(size = p) - 5\n",
    "\n",
    "y, X = simu_noisy_logistic(coeffs,n_sample)\n",
    "t0 = np.random.random(p)\n",
    "t0_prime = np.random.random(p)\n",
    "n_iter = 200\n",
    "step = 0.1\n",
    "K = range(20,200,20)\n",
    "n_train = int(0.8*n_sample)\n",
    "\n",
    "X_train = X[0:n_train,:]\n",
    "y_train = y[0:n_train]\n",
    "\n",
    "X_test = X[n_train:,:]\n",
    "y_test = y[n_train:]\n",
    "\n",
    "pred_sklearn = []\n",
    "\n",
    "log = linear_model.LogisticRegression()\n",
    "log.fit(X_train,y_train)\n",
    "predictions = log.predict(X_test)\n",
    "pred_sklearn.append(metrics.accuracy_score(y_test,predictions))\n",
    "\n",
    "pred_mom = []\n",
    "fix_k =[]\n",
    "\n",
    "for k in K:\n",
    "    mom_ista = MOM_ista(X=X_train, y=y_train, t0=t0, t0_prime= t0_prime, step =step,\n",
    "                    K=k, n_iter=n_iter, t_true = coeffs, verbose=False)\n",
    "    fix_k.append(prediction_mom(mom_ista[0],X_test,y_test,verbose = False))\n",
    "\n",
    "pred_mom.append(max(fix_k))\n",
    "\n",
    "for nb_outliers in range(1,100):\n",
    "    \n",
    "    fix_k =[]\n",
    "    \n",
    "    y_outliers,X_outliers = simu_outliers(coeffs,nb_outliers)\n",
    "\n",
    "    X_train[0:nb_outliers,:] = X_outliers\n",
    "    y_train[0:nb_outliers] = y_outliers\n",
    "    \n",
    "    log = linear_model.LogisticRegression()\n",
    "    log.fit(X_train,y_train)\n",
    "    predictions = log.predict(X_test)\n",
    "    pred_sklearn.append(metrics.accuracy_score(y_test,predictions))\n",
    "\n",
    "\n",
    "\n",
    "    for k in K:\n",
    "        \n",
    "        mom_ista = MOM_ista(X=X_train, y=y_train, t0=t0, t0_prime= t0_prime, step =step,\n",
    "                            K=k, n_iter=n_iter, t_true = coeffs, verbose=False)\n",
    "\n",
    "        fix_k.append(prediction_mom(mom_ista[0],X_test,y_test,verbose = False))\n",
    "        \n",
    "    \n",
    "    pred_mom.append(max(fix_k))"
   ]
  },
  {
   "cell_type": "code",
   "execution_count": null,
   "metadata": {
    "collapsed": true
   },
   "outputs": [],
   "source": [
    "p1 = plt.plot(np.arange(100),1-np.array(pred_mom),'r--',label = \"MOM logistic\")\n",
    "p1 = plt.plot(np.arange(100),1-np.array(pred_sklearn),color = 'blue',label = \"LR from Sklearn\")\n",
    "plt.xlabel(\"Number of outliers\")\n",
    "plt.ylabel(\"Error rate\")\n",
    "plt.title(\"LR from Sklearn VS MOM logistic\")\n",
    "plt.legend()"
   ]
  },
  {
   "cell_type": "code",
   "execution_count": null,
   "metadata": {
    "collapsed": true
   },
   "outputs": [],
   "source": [
    "from bokeh.plotting import figure, output_file, show\n",
    "from bokeh.io import output_notebook\n",
    "output_notebook()\n",
    "\n",
    "plot = figure(plot_width=500, plot_height=500)\n",
    "plot.line(x=np.arange(50), y=1-np.array(pred_mom), color=\"blue\",line_width=2)\n",
    "plot.line(x=np.arange(50), y=1-np.array(pred_sklearn), color=\"red\",line_width=2)\n",
    "\n",
    "show(plot)"
   ]
  },
  {
   "cell_type": "markdown",
   "metadata": {
    "collapsed": true
   },
   "source": [
    "## Outlier Detection"
   ]
  },
  {
   "cell_type": "markdown",
   "metadata": {},
   "source": [
    "The objective of this section is to use the previous algorithm to detect outliers in the database. We outliers defined  $X_i = (10)_{j=1}^p$ and $Y_i = - sign(<X_i,t>)$"
   ]
  },
  {
   "cell_type": "code",
   "execution_count": 15,
   "metadata": {
    "collapsed": true
   },
   "outputs": [],
   "source": [
    "def median_block_outliers(X, y, t, t_prime, K, N):\n",
    "    \"\"\"\n",
    "    Attribute to each data a block\n",
    "    Return data in the median block (where the excess loss is median)\n",
    "    \"\"\"\n",
    "    exc_loss = np.zeros(K)\n",
    "    partition = partition_block(K, N)\n",
    "    for j in np.arange(K):\n",
    "        idx_block = np.where(partition == j)[0]\n",
    "        exc_loss[j] = excess_loss(X[idx_block,:], y[idx_block], t, t_prime)\n",
    "    median_block = np.argsort(exc_loss)[int(K/2)]\n",
    "    score_data = np.zeros(N)\n",
    "    score_data[np.where(partition == median_block)[0]] = 1\n",
    "    return(score_data, X[np.where(partition == median_block)[0],], y[np.where(partition == median_block)[0]])\n",
    "\n",
    "\n",
    "def MOM_ista_outliers(X, y, t0, t0_prime, step, K, n_iter=50, t_true = coeffs, verbose=True):\n",
    "    \"\"\"Alternating Gradient Descent Algorithm\"\"\"\n",
    "    \n",
    "    t = t0.copy()\n",
    "    t_prime = t0_prime.copy()\n",
    "      \n",
    "    n_samples, n_features = X.shape\n",
    "    \n",
    "    errors = np.zeros(n_iter)\n",
    "    objectives = np.zeros(n_iter)\n",
    "    \n",
    "    errors[0] = norm(t - t_true) / norm(t_true)\n",
    "    score_data, X_block, y_block = median_block_outliers(X, y, t, t_true, K, X.shape[0])\n",
    "    objectives[0] = excess_loss(X_block, y_block, t, t_true)\n",
    "    if verbose:\n",
    "        print (\"Lauching MOM solver...\")\n",
    "        print (' | '.join([name.center(8) for name in [\"it\", \"obj\", \"err\"]]))\n",
    "        \n",
    "        \n",
    "    for k in range(1, n_iter ):\n",
    "        \n",
    "        \n",
    "        \"Ascent in t_prime\"\n",
    "        new_score, X_block, y_block = median_block_outliers(X, y, t, t_true, K, X.shape[0])\n",
    "        if k > 100:\n",
    "            score_data = score_data + new_score\n",
    "        \n",
    "        t_prime = t_prime - step * grad_logreg(X_block, y_block, t_prime)\n",
    "        \n",
    "        \"Descent in t\"\n",
    "        new_score, X_block, y_block = median_block_outliers(X, y, t, t_true, K, X.shape[0])\n",
    "        if k > 100:\n",
    "            score_data = score_data + new_score\n",
    "        \n",
    "        t = t - step * grad_logreg(X_block, y_block, t)\n",
    "        \n",
    "        \n",
    "        \"Compute the error and the objective\"\n",
    "        \n",
    "        \n",
    "        errors[k] = norm(t - t_true) / norm(t_true)\n",
    "        objectives[k] = excess_loss(X_block, y_block, t, t_true)\n",
    "\n",
    "        if k % 20 == 0 and verbose:\n",
    "            print (' | '.join([(\"%d\" % k).rjust(8), \n",
    "                              (\"%.2e\" % objectives[k]).rjust(8), \n",
    "                              (\"%.2e\" % errors[k]).rjust(8)]))\n",
    "            \n",
    "    return t, t_prime, objectives, errors, score_data"
   ]
  },
  {
   "cell_type": "code",
   "execution_count": 16,
   "metadata": {},
   "outputs": [
    {
     "name": "stdout",
     "output_type": "stream",
     "text": [
      "Position outliers [43  6 62]\n",
      "Data no selected: [62  6 43]\n"
     ]
    }
   ],
   "source": [
    "n_sample = 100\n",
    "p = 10\n",
    "coeffs = 10*np.random.uniform(size = p) - 5\n",
    "\n",
    "y, X = simu_noisy_logistic(coeffs,n_sample)\n",
    "t0 = np.random.random(p)\n",
    "t0_prime = np.random.random(p)\n",
    "n_iter = 1000\n",
    "step = 1\n",
    "K = 6\n",
    "\n",
    "n_train = int(0.8*n_sample)\n",
    "\n",
    "X_train = X[0:n_train,:]\n",
    "y_train = y[0:n_train]\n",
    "\n",
    "X_test = X[n_train:,:]\n",
    "y_test = y[n_train:]\n",
    "\n",
    "pred_sklearn = []\n",
    "\n",
    "log = linear_model.LogisticRegression()\n",
    "log.fit(X_train,y_train)\n",
    "predictions = log.predict(X_test)\n",
    "pred_sklearn.append(metrics.accuracy_score(y_test,predictions))\n",
    "\n",
    "pred_mom = []\n",
    "mom_ista = MOM_ista(X=X_train, y=y_train, t0=t0, t0_prime= t0_prime, step =step,\n",
    "                    K=K, n_iter=n_iter, t_true = coeffs, verbose=False)\n",
    "\n",
    "pred_mom.append(prediction_mom(mom_ista[0],X_test,y_test,verbose = False))\n",
    "\n",
    "level = 10\n",
    "nb_outliers = 3\n",
    "position= np.random.choice(np.arange(int(0.8*n_sample)),nb_outliers)\n",
    "print(\"Position outliers\",position)\n",
    "\n",
    "X_outliers = np.resize(np.repeat(level,p*nb_outliers),(nb_outliers,p))\n",
    "y_outliers = np.repeat(-np.sign(np.dot(X_outliers[0,:],coeffs)),nb_outliers)\n",
    "\n",
    "X_train[position,:] = X_outliers\n",
    "y_train[position] = y_outliers\n",
    "\n",
    "log = linear_model.LogisticRegression()\n",
    "log.fit(X_train,y_train)\n",
    "predictions = log.predict(X_test)\n",
    "pred_sklearn.append(metrics.accuracy_score(y_test,predictions))\n",
    "    \n",
    "\n",
    "mom_ista = MOM_ista_outliers(X=X_train, y=y_train, t0=t0, t0_prime= t0_prime, step =step,\n",
    "                        K=K, n_iter=n_iter, t_true = coeffs, verbose=False)\n",
    "\n",
    "pred_mom.append(prediction_mom(mom_ista[0],X_test,y_test,verbose = False))\n",
    "print(\"Data no selected:\", np.argsort(mom_ista[4])[0:nb_outliers]) "
   ]
  },
  {
   "cell_type": "markdown",
   "metadata": {},
   "source": [
    "    Remark: Detect perfectly the outliers !! "
   ]
  },
  {
   "cell_type": "code",
   "execution_count": 17,
   "metadata": {},
   "outputs": [
    {
     "data": {
      "text/plain": [
       "<matplotlib.text.Text at 0x115a19320>"
      ]
     },
     "execution_count": 17,
     "metadata": {},
     "output_type": "execute_result"
    },
    {
     "data": {
      "image/png": "[encoded data removed]",
      "text/plain": [
       "<matplotlib.figure.Figure at 0x10ec51320>"
      ]
     },
     "metadata": {},
     "output_type": "display_data"
    }
   ],
   "source": [
    "plt.figure(figsize=(20,10))\n",
    "plt.stem(np.arange(int(0.8*n_sample)),mom_ista[4])\n",
    "plt.xlabel('Observation X_train')\n",
    "plt.ylabel('Nb of selection')\n",
    "plt.title('Outliers Detection')"
   ]
  },
  {
   "cell_type": "markdown",
   "metadata": {},
   "source": [
    "## Comparizon new blocks at each iteration"
   ]
  },
  {
   "cell_type": "markdown",
   "metadata": {},
   "source": [
    "In this section we compare two possible algorithm. Note that since the begining we compute new blocks at each iteration of the algorithm. An other strategy would be to keep the same blocks during the algorithm. It turns out that the first idea is much more efficient as it is presented below. "
   ]
  },
  {
   "cell_type": "code",
   "execution_count": 17,
   "metadata": {
    "collapsed": true
   },
   "outputs": [],
   "source": [
    "def MOM_ista_same_block(X, y, t0, t0_prime, step, K, n_iter=50, t_true = coeffs, verbose=True):\n",
    "    \"\"\"Alternating Gradient Descent Algorithm\"\"\"\n",
    "    \n",
    "    t = t0.copy()\n",
    "    t_prime = t0_prime.copy()\n",
    "      \n",
    "    n_samples, n_features = X.shape\n",
    "    \n",
    "    errors = np.zeros(n_iter)\n",
    "    objectives = np.zeros(n_iter)\n",
    "    \n",
    "    errors[0] = norm(t - t_true) / norm(t_true)\n",
    "    X_block, y_block = median_block(X, y, t, t_true, K, X.shape[0])\n",
    "    objectives[0] = excess_loss(X_block, y_block, t, t_true)\n",
    "    if verbose:\n",
    "        print (\"Lauching MOM solver...\")\n",
    "        print (' | '.join([name.center(8) for name in [\"it\", \"obj\", \"err\"]]))\n",
    "        \n",
    "        \n",
    "    for k in range(1, n_iter ):\n",
    "        \n",
    "        \n",
    "        \"Ascent in t_prime\"\n",
    "        \n",
    "        t_prime = t_prime - step * grad_logreg(X_block, y_block, t_prime)\n",
    "        \n",
    "        \"Descent in t\"\n",
    "        \n",
    "        t = t - step * grad_logreg(X_block, y_block, t)\n",
    "        \n",
    "        \n",
    "        \"Compute the error and the objective\"\n",
    "        \n",
    "        errors[k] = norm(t - t_true) / norm(t_true)\n",
    "        objectives[k] = excess_loss(X_block, y_block, t, t_true)\n",
    "\n",
    "        if k % 20 == 0 and verbose:\n",
    "            print (' | '.join([(\"%d\" % k).rjust(8), \n",
    "                              (\"%.2e\" % objectives[k]).rjust(8), \n",
    "                              (\"%.2e\" % errors[k]).rjust(8)]))\n",
    "            \n",
    "    return t, t_prime, objectives, errors\n",
    "\n",
    "\n",
    "def prediction_mom(coeff, X_test, y_test,verbose = True):\n",
    "    proba = 1/(1+np.exp(-np.dot(X_test, coeff)))\n",
    "    predictions = np.sign(2*proba-1)\n",
    "    score = metrics.accuracy_score(y_test,predictions)\n",
    "    if verbose:\n",
    "        print(\"Accuracy for MOM Logistic regression: \", score)\n",
    "    return(score)"
   ]
  },
  {
   "cell_type": "code",
   "execution_count": 18,
   "metadata": {},
   "outputs": [
    {
     "name": "stdout",
     "output_type": "stream",
     "text": [
      "Accuracy sklearn: 93.0\n",
      "Prediction same blocks : \n",
      "Accuracy for MOM Logistic regression:  0.715\n",
      "Prediction new blocks : \n",
      "Accuracy for MOM Logistic regression:  0.9\n"
     ]
    },
    {
     "data": {
      "text/plain": [
       "0.90000000000000002"
      ]
     },
     "execution_count": 18,
     "metadata": {},
     "output_type": "execute_result"
    }
   ],
   "source": [
    "n_sample = 1000\n",
    "p = 50\n",
    "coeffs = 10*np.random.uniform(size = p) - 5\n",
    "\n",
    "y, X = simu_noisy_logistic(coeffs,n_sample)\n",
    "\n",
    "n_train = int(0.8*n_sample)\n",
    "X_train = X[0:n_train,:]\n",
    "y_train = y[0:n_train]\n",
    "\n",
    "X_test = X[n_train:,:]\n",
    "y_test = y[n_train:]\n",
    "\n",
    "\n",
    "log = linear_model.LogisticRegression()\n",
    "log.fit(X_train,y_train)\n",
    "predictions = log.predict(X_test)\n",
    "\n",
    "score = metrics.accuracy_score(y_test,predictions)\n",
    "print('Accuracy sklearn:', round(score,4)*100)\n",
    "\n",
    "t0 = np.random.random(p)\n",
    "t0_prime = np.random.random(p)\n",
    "n_iter = 2000\n",
    "step = 1. / lip_logreg(X,X_train.shape[0])\n",
    "K = 50\n",
    "\n",
    "mom_ista_same_block = MOM_ista_same_block(X=X_train, y=y_train, t0=t0, t0_prime= t0_prime, step =step,\n",
    "                    K=K, n_iter=n_iter, t_true = coeffs, verbose=False)\n",
    "mom_ista_diff_block= MOM_ista(X=X_train, y=y_train, t0=t0, t0_prime= t0_prime, step =step,\n",
    "                    K=K, n_iter=n_iter, t_true = coeffs, verbose=False)\n",
    "\n",
    "print('Prediction same blocks : ')\n",
    "prediction_mom(mom_ista_same_block[0],X_test,y_test)\n",
    "print('Prediction new blocks : ')\n",
    "prediction_mom(mom_ista_diff_block[0],X_test,y_test)"
   ]
  },
  {
   "cell_type": "code",
   "execution_count": 72,
   "metadata": {},
   "outputs": [
    {
     "data": {
      "text/plain": [
       "<matplotlib.legend.Legend at 0x118a2d6a0>"
      ]
     },
     "execution_count": 72,
     "metadata": {},
     "output_type": "execute_result"
    },
    {
     "data": {
      "image/png": "[encoded data removed]",
      "text/plain": [
       "<matplotlib.figure.Figure at 0x1185d4f28>"
      ]
     },
     "metadata": {},
     "output_type": "display_data"
    }
   ],
   "source": [
    "p1 = plt.plot(mom_ista_same_block[3],'r--',label = \"Fixed blocks\")\n",
    "p1 = plt.plot(mom_ista_diff_block[3],color = 'blue',label = \"Random blocks\")\n",
    "plt.xlabel(\"Number of iterations\")\n",
    "plt.ylabel('$||t-t^{\\star}||_2/||t^{\\star}||_2$')\n",
    "plt.title(\"Fixed blocks VS Random blocks\")\n",
    "plt.legend()"
   ]
  },
  {
   "cell_type": "code",
   "execution_count": 73,
   "metadata": {},
   "outputs": [
    {
     "data": {
      "text/plain": [
       "<matplotlib.legend.Legend at 0x11896c518>"
      ]
     },
     "execution_count": 73,
     "metadata": {},
     "output_type": "execute_result"
    },
    {
     "data": {
      "image/png": "[encoded data removed]",
      "text/plain": [
       "<matplotlib.figure.Figure at 0x118de9c18>"
      ]
     },
     "metadata": {},
     "output_type": "display_data"
    }
   ],
   "source": [
    "p1 = plt.plot(mom_ista_diff_block[2],color = 'blue',label = \"Fixed blocks\")\n",
    "p1 = plt.plot(mom_ista_same_block[2],'r--',label = \"Random blocks\")\n",
    "plt.xlabel(\"Number of iterations\")\n",
    "plt.ylabel('Objective function')\n",
    "plt.title(\"Random blocks VS Fixed blocks\")\n",
    "plt.legend()"
   ]
  },
  {
   "cell_type": "code",
   "execution_count": 21,
   "metadata": {},
   "outputs": [
    {
     "data": {
      "text/plain": [
       "<Container object of 3 artists>"
      ]
     },
     "execution_count": 21,
     "metadata": {},
     "output_type": "execute_result"
    },
    {
     "data": {
      "image/png": "[encoded data removed]",
      "text/plain": [
       "<matplotlib.figure.Figure at 0x1178248d0>"
      ]
     },
     "metadata": {},
     "output_type": "display_data"
    },
    {
     "data": {
      "text/plain": [
       "<matplotlib.figure.Figure at 0x117824940>"
      ]
     },
     "metadata": {},
     "output_type": "display_data"
    },
    {
     "data": {
      "image/png": "[encoded data removed]",
      "text/plain": [
       "<matplotlib.figure.Figure at 0x117b3bf60>"
      ]
     },
     "metadata": {},
     "output_type": "display_data"
    },
    {
     "data": {
      "text/plain": [
       "<matplotlib.figure.Figure at 0x117c10fd0>"
      ]
     },
     "metadata": {},
     "output_type": "display_data"
    }
   ],
   "source": [
    "f, axarr = plt.subplots(2,2)\n",
    "plt.figure(figsize=(8,10))\n",
    "axarr[0,0].plot(mom_ista_diff_block[2], 'r-', label= 'ISTA')\n",
    "axarr[1,0].plot(mom_ista_diff_block[3], 'r-', label= 'ISTA')\n",
    "axarr[0,1].stem(mom_ista_diff_block[0])\n",
    "axarr[1,1].stem(coeffs)\n",
    "\n",
    "f, axarr = plt.subplots(2,2)\n",
    "plt.figure(figsize=(8,10))\n",
    "axarr[0,0].plot(mom_ista_same_block[2], 'r-', label= 'ISTA')\n",
    "axarr[1,0].plot(mom_ista_same_block[3], 'r-', label= 'ISTA')\n",
    "axarr[0,1].stem(mom_ista_same_block[0])\n",
    "axarr[1,1].stem(coeffs)\n",
    "\n"
   ]
  },
  {
   "cell_type": "markdown",
   "metadata": {
    "collapsed": true
   },
   "source": [
    "## Running time comparizon"
   ]
  },
  {
   "cell_type": "markdown",
   "metadata": {},
   "source": [
    "In this section we present to computational advantage of the MOM algorithm with respect to a standard method. Since the descent is only performed on a few number of data we expect the MOM algorithm to be faster. "
   ]
  },
  {
   "cell_type": "code",
   "execution_count": 41,
   "metadata": {
    "collapsed": true
   },
   "outputs": [],
   "source": [
    "def Gradient_descent(X, y, t0, step, n_iter=50, t_true = coeffs, verbose=True):\n",
    "    \"\"\"Alternating Gradient Descent Algorithm\"\"\"\n",
    "    \n",
    "    t = t0.copy()\n",
    "\n",
    "    n_samples, n_features = X.shape\n",
    "    \n",
    "    run_time = np.zeros(n_iter)\n",
    "    errors = np.zeros(n_iter)\n",
    "    objectives = np.zeros(n_iter)\n",
    "    \n",
    "    tmps1=time.clock()\n",
    "    \n",
    "    errors[0] = norm(t - t_true) / norm(t_true)\n",
    "    objectives[0] = excess_loss(X, y, t, t_true)\n",
    "    \n",
    "    tmps2=time.clock()\n",
    "    \n",
    "    run_time[0] = tmps2- tmps1 \n",
    "    if verbose:\n",
    "        print (\"Lauching MOM solver...\")\n",
    "        print (' | '.join([name.center(8) for name in [\"it\", \"obj\", \"err\"]]))\n",
    "        \n",
    "        \n",
    "    for k in range(1, n_iter ):\n",
    "\n",
    "        t = t - step * grad_logreg(X, y, t)\n",
    "        \n",
    "        \n",
    "        errors[k] = norm(t - t_true) / norm(t_true)\n",
    "        objectives[k] = excess_loss(X, y, t, t_true)\n",
    "\n",
    "        tmps2=time.clock() \n",
    "        \n",
    "        run_time[k] = tmps2- tmps1 \n",
    "        if k % 20 == 0 and verbose:\n",
    "            print (' | '.join([(\"%d\" % k).rjust(8), \n",
    "                              (\"%.2e\" % objectives[k]).rjust(8), \n",
    "                              (\"%.2e\" % errors[k]).rjust(8)]))\n",
    "            \n",
    "    return t, objectives, errors, run_time"
   ]
  },
  {
   "cell_type": "code",
   "execution_count": 42,
   "metadata": {
    "collapsed": true
   },
   "outputs": [],
   "source": [
    "def MOM_ista_time(X, y, t0, t0_prime, step, K, n_iter=50, t_true = coeffs, verbose=True):\n",
    "    \"\"\"Alternating Gradient Descent Algorithm\"\"\"\n",
    "    \n",
    "    t = t0.copy()\n",
    "    t_prime = t0_prime.copy()\n",
    "      \n",
    "    n_samples, n_features = X.shape\n",
    "    \n",
    "    run_time = np.zeros(n_iter)\n",
    "    errors = np.zeros(n_iter)\n",
    "    objectives = np.zeros(n_iter)\n",
    "    \n",
    "    tmps1=time.clock()\n",
    "    \n",
    "    errors[0] = norm(t - t_true) / norm(t_true)\n",
    "    X_block, y_block = median_block(X, y, t, t_prime, K, X.shape[0])\n",
    "    objectives[0] = excess_loss(X_block, y_block, t, t_true)\n",
    "    \n",
    "    tmps2=time.clock()\n",
    "    \n",
    "    run_time[0] = tmps2- tmps1\n",
    "    if verbose:\n",
    "        print (\"Lauching MOM solver...\")\n",
    "        print (' | '.join([name.center(8) for name in [\"it\", \"obj\", \"err\"]]))\n",
    "        \n",
    "        \n",
    "    for k in range(1, n_iter ):\n",
    "        \n",
    "        \"Ascent in t_prime\"\n",
    "        X_block, y_block = median_block(X, y, t, t_prime, K, X.shape[0])\n",
    "        \n",
    "        t_prime = t_prime - step * grad_logreg(X_block, y_block, t_prime)\n",
    "        \n",
    "        \"Descent in t\"\n",
    "        X_block, y_block = median_block(X, y, t, t_prime, K, X.shape[0])\n",
    "        \n",
    "        t = t - step * grad_logreg(X_block, y_block, t)\n",
    "        \n",
    "        \n",
    "        \"Compute the error and the objective\"\n",
    "        \n",
    "        errors[k] = norm(t - t_true) / norm(t_true)\n",
    "        objectives[k] = excess_loss(X_block, y_block, t, t_true)\n",
    "\n",
    "        tmps2=time.clock() \n",
    "        \n",
    "        run_time[k] = tmps2- tmps1 \n",
    "        if k % 20 == 0 and verbose:\n",
    "            print (' | '.join([(\"%d\" % k).rjust(8), \n",
    "                              (\"%.2e\" % objectives[k]).rjust(8), \n",
    "                              (\"%.2e\" % errors[k]).rjust(8)]))\n",
    "            \n",
    "    return t, t_prime, objectives, errors, run_time"
   ]
  },
  {
   "cell_type": "code",
   "execution_count": 66,
   "metadata": {},
   "outputs": [
    {
     "name": "stdout",
     "output_type": "stream",
     "text": [
      "X shape:  (1000, 50)\n",
      "y shape:  (1000,)\n"
     ]
    }
   ],
   "source": [
    "n_sample = 1000\n",
    "p = 50\n",
    "coeffs = 10*np.random.uniform(size = p) - 5\n",
    "\n",
    "y_train, X_train = simu_logistic(coeffs,n_sample)\n",
    "print(\"X shape: \",X.shape)\n",
    "print(\"y shape: \",y.shape)\n",
    "\n",
    "t0 = np.random.random(p)\n",
    "t0_prime = np.random.random(p)\n",
    "n_iter = 1000\n",
    "step = 1. / lip_logreg(X,X_train.shape[0])\n",
    "K = 50\n",
    "\n",
    "\n",
    "mom = MOM_ista_time(X=X_train, y=y_train, t0=t0, t0_prime= t0_prime, step =step,\n",
    "                    K=K, n_iter=n_iter, t_true = coeffs, verbose=False)\n",
    "Grad_desc = Gradient_descent(X_train, y_train, t0, step, n_iter,coeffs, False)"
   ]
  },
  {
   "cell_type": "code",
   "execution_count": 71,
   "metadata": {},
   "outputs": [
    {
     "data": {
      "text/plain": [
       "<matplotlib.legend.Legend at 0x118815e10>"
      ]
     },
     "execution_count": 71,
     "metadata": {},
     "output_type": "execute_result"
    },
    {
     "data": {
      "image/png": "[encoded data removed]",
      "text/plain": [
       "<matplotlib.figure.Figure at 0x118960b70>"
      ]
     },
     "metadata": {},
     "output_type": "display_data"
    }
   ],
   "source": [
    "p1 = plt.plot(mom[4],mom[3], color = 'blue',label = \"MOM Gradient Ascent Descent\")\n",
    "p1 = plt.plot(Grad_desc[3],Grad_desc[2],'r--',label = \"Classical GD\")\n",
    "plt.xlabel(\"Time in second\")\n",
    "plt.ylabel('$||t-t^{\\star}||_2/||t^{\\star}||_2$')\n",
    "plt.title(\"Time comparizon\")\n",
    "plt.legend()"
   ]
  }
 ],
 "metadata": {
  "kernelspec": {
   "display_name": "Python 3",
   "language": "python",
   "name": "python3"
  },
  "language_info": {
   "codemirror_mode": {
    "name": "ipython",
    "version": 3
   },
   "file_extension": ".py",
   "mimetype": "text/x-python",
   "name": "python",
   "nbconvert_exporter": "python",
   "pygments_lexer": "ipython3",
   "version": "3.6.1"
  }
 },
 "nbformat": 4,
 "nbformat_minor": 2
}
