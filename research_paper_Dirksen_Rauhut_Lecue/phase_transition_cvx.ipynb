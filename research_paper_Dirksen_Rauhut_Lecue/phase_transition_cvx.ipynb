{
 "cells": [
  {
   "cell_type": "markdown",
   "metadata": {},
   "source": [
    "# Solving BPDN$_\\infty$ for quantized Compressed sensing via the cvxopt package\n",
    "\n",
    "$\\newcommand{\\eps}{\\varepsilon}$\n",
    "$\\newcommand{\\bR}{\\mathbb{R}}$\n",
    "$\\newcommand{\\1}{{\\rm 1}\\kern-0.24em{\\rm I}}$\n",
    "$\\newcommand{\\inr}[1]{\\bigl< #1 \\bigr>}$"
   ]
  },
  {
   "cell_type": "markdown",
   "metadata": {},
   "source": [
    "This notebooks is a simulations support for Section~4 of paper\n",
    "\n",
    "> Sjoerd, Dirksen and Guillaume, Lecué and Holger, Rauhut, \"ON THE GAP BETWEEN RIP-PROPERTIES AND SPARSE RECOVERY CONDITIONS\"\n",
    "\n",
    "We refer the reader to <a href=\"http://lecueguillaume.github.io/assets/gap_rip_reconstruction.pdf\"> paper </a> for more details"
   ]
  },
  {
   "cell_type": "code",
   "execution_count": 1,
   "metadata": {
    "collapsed": false
   },
   "outputs": [
    {
     "name": "stdout",
     "output_type": "stream",
     "text": [
      "Populating the interactive namespace from numpy and matplotlib\n"
     ]
    }
   ],
   "source": [
    "from __future__ import division\n",
    "%pylab inline"
   ]
  },
  {
   "cell_type": "markdown",
   "metadata": {},
   "source": [
    "# Import cvxopt library for solving our optimization problem"
   ]
  },
  {
   "cell_type": "code",
   "execution_count": 2,
   "metadata": {
    "collapsed": false
   },
   "outputs": [],
   "source": [
    "from cvxopt import solvers, matrix, spdiag, log, spmatrix, sparse # writting '%pylab inline' after those lines will cause trouble in the matrix method"
   ]
  },
  {
   "cell_type": "markdown",
   "metadata": {
    "collapsed": false
   },
   "source": [
    "# Solving BPDN$_\\infty$ via linear programming\n",
    "\n",
    "Given a measurements matrix $A\\in\\bR^{m\\times n}$ and $y=A\\hat x + e$ where $||e||_\\infty\\leq \\eps$, the Basis Pursuit Denoising program  BPDN$_\\infty$ is the procedure\n",
    "\n",
    "$$\n",
    "min\\big( ||t||_1: ||At-y||_\\infty\\leq \\eps\\big) \\hspace{2cm} (P).\n",
    "$$\n",
    "\n",
    "This procedure can be recast as a linear program by introducing slack variables $z^+,z^-\\in\\bR^n$: problem~(P) is equivalent to\n",
    "\n",
    "> $$\\min_{z^+,z^-\\in\\bR^n} \\sum_{j=1}^n z_i^+ + z_i^-$$\n",
    "\n",
    "> subject to $$-\\eps\\leq [A|-A]\\left[\\begin{array}{c} z^+\\\\ z^-\\end{array}\\right]-y\\leq \\eps$$\n",
    "\n",
    "> and $$\\left[\\begin{array}{c} z^+\\\\ z^-\\end{array}\\right]\\geq 0$$\n",
    "\n",
    "This is a linear program:\n",
    "\n",
    "> $$\\min_{\\left[\\begin{array}{c} z^+\\\\ z^-\\end{array}\\right]\\in\\bR^{2n}} \\inr{a,\\left[\\begin{array}{c} z^+\\\\ z^-\\end{array}\\right]}$$\n",
    "\n",
    "> subject to $$ M \\left[\\begin{array}{c} z^+\\\\ z^-\\end{array}\\right] \\leq b$$\n",
    "\n",
    "where\n",
    "\n",
    "$$a = \\left[\\begin{array}{c} \\1 \\\\ \\1 \\end{array}\\right],\\hspace{1cm} M = \\left[\\begin{array}{c}[A|-A]\\\\ [-A|A]\\\\ [-I_n|0]\\\\ [0|-I_n] \\end{array}\\right],\\hspace{1cm} b = \\left[\\begin{array}{c}y + \\eps \\1\\\\ -y+\\eps\\1 \\\\ 0 \\\\ 0 \\end{array}\\right]$$\n",
    "\n",
    "Solution to (P) is recovered via $t= z^+-z^-$."
   ]
  },
  {
   "cell_type": "markdown",
   "metadata": {
    "collapsed": false
   },
   "source": [
    "### construction of cvxopt matrices $a,M,b$"
   ]
  },
  {
   "cell_type": "code",
   "execution_count": 3,
   "metadata": {
    "collapsed": false
   },
   "outputs": [],
   "source": [
    "def cvx_mat(A, y, eps):\n",
    "    '''A, y: numpy array or cvx matrices\n",
    "    eps : positive real number'''\n",
    "    A = matrix(A)\n",
    "    y = matrix(y)\n",
    "    m, n = matrix(A).size\n",
    "    # matrix a\n",
    "    a = matrix(ones(2*n))\n",
    "    # matrix M\n",
    "    I_n = spdiag([1]*n)\n",
    "    z_n = spdiag([0]*n)\n",
    "    M = matrix([[A,-A, -I_n, z_n],[-A, A, z_n, -I_n]])\n",
    "    # matrix b\n",
    "    un_m = matrix(ones(m))\n",
    "    zero_n = matrix(zeros(n))\n",
    "    b = matrix([y + eps*un_m, -y + eps*un_m, zero_n, zero_n])\n",
    "    return a, M, b"
   ]
  },
  {
   "cell_type": "markdown",
   "metadata": {},
   "source": [
    "### construction of sparse signals in $\\bR^n$ and measurements in $\\bR^m$"
   ]
  },
  {
   "cell_type": "code",
   "execution_count": 4,
   "metadata": {
    "collapsed": false
   },
   "outputs": [],
   "source": [
    "def signal(n, sparsity):\n",
    "    sel = random.permutation(n)\n",
    "    sel = sel[0:sparsity]   # indices of the nonzero elements of xsharp\n",
    "    xsharp = zeros(n)\n",
    "    xsharp[sel] = 1\n",
    "    return xsharp\n",
    "\n",
    "def measures(A, signal, eps):\n",
    "    m, n = A.shape\n",
    "    e = random.uniform(-eps, eps, (m,1))\n",
    "    return [sum(a) for a in zip(dot(A, signal), e)]"
   ]
  },
  {
   "cell_type": "code",
   "execution_count": 13,
   "metadata": {
    "collapsed": false
   },
   "outputs": [],
   "source": [
    "m , n, sparsity, eps = 10, 30, 3, 0\n",
    "A, x_hat = randn(m, n), signal(n, sparsity)\n",
    "y = measures(A, x_hat, eps)"
   ]
  },
  {
   "cell_type": "code",
   "execution_count": 14,
   "metadata": {
    "collapsed": false
   },
   "outputs": [],
   "source": [
    "a, M, b = cvx_mat(A, y, eps)\n",
    "#print(a, M, b)"
   ]
  },
  {
   "cell_type": "markdown",
   "metadata": {},
   "source": [
    "### cvxopt linear solver  <a href=\"http://cvxopt.org/examples/tutorial/lp.html\"> cvx lp </a>"
   ]
  },
  {
   "cell_type": "code",
   "execution_count": 15,
   "metadata": {
    "collapsed": false
   },
   "outputs": [
    {
     "name": "stdout",
     "output_type": "stream",
     "text": [
      "     pcost       dcost       gap    pres   dres   k/t\n",
      " 0: -7.3969e-15  2.6645e-14  2e+02  1e+00  1e+00  1e+00\n",
      " 1:  1.0175e+00  1.6355e+00  9e+00  1e-01  1e-01  7e-01\n",
      " 2:  2.7481e+00  2.9466e+00  3e+00  4e-02  3e-02  2e-01\n",
      " 3:  2.9303e+00  2.9436e+00  4e-01  6e-03  5e-03  2e-02\n",
      " 4:  2.9993e+00  2.9994e+00  5e-03  7e-05  5e-05  2e-04\n",
      " 5:  3.0000e+00  3.0000e+00  5e-05  7e-07  5e-07  2e-06\n",
      " 6:  3.0000e+00  3.0000e+00  5e-07  7e-09  5e-09  2e-08\n",
      "Optimal solution found.\n"
     ]
    }
   ],
   "source": [
    "sol = solvers.lp(a, M, b)\n",
    "sol = sol['x']\n",
    "x_recover = sol[0:n] - sol[n:2*n]"
   ]
  },
  {
   "cell_type": "code",
   "execution_count": 16,
   "metadata": {
    "collapsed": false
   },
   "outputs": [
    {
     "data": {
      "text/plain": [
       "4.3543259337789098e-08"
      ]
     },
     "execution_count": 16,
     "metadata": {},
     "output_type": "execute_result"
    }
   ],
   "source": [
    "norm(matrix(x_hat) - x_recover,2)"
   ]
  },
  {
   "cell_type": "code",
   "execution_count": 17,
   "metadata": {
    "collapsed": true
   },
   "outputs": [],
   "source": [
    "def dist(x_hat, sol):\n",
    "    n = len(x_hat)\n",
    "    x_recover = sol[0:n] - sol[n:2*n]\n",
    "    return norm(matrix(x_hat) - x_recover,2)"
   ]
  },
  {
   "cell_type": "markdown",
   "metadata": {},
   "source": [
    "# Phase transition diagram for BPDN$_\\infty$\n",
    "\n",
    "We say that the reconstruction is a success when $||x_{hat}-x_{recover}||_2\\leq 10\\eps + 0.001$"
   ]
  },
  {
   "cell_type": "code",
   "execution_count": 18,
   "metadata": {
    "collapsed": true
   },
   "outputs": [],
   "source": [
    "def phase_transition_mat(n, eps, nbtest):\n",
    "    \"\"\"return a n.n/2 matrix with the number of reconstruction success for every  1\\leq m \\leq n measurements \n",
    "    and sparsity 1\\leq sparsity \\leq n/2\n",
    "    n : ambiant dimension of the signals\n",
    "    eps : infinite norm of the additive noise (= twice the size of cells in CS quantization)\n",
    "    nbtest : number of tests for each pixel\"\"\"\n",
    "    PTM = zeros((n,int(n/2)))\n",
    "    set_ind_failure = []\n",
    "    for m in range(1,n+1):#construct one line of the Phase transition matrix for a given number of measurements m\n",
    "        if (m % 20) == 0:\n",
    "            print(\"line number {} done\".format(m))\n",
    "        A = randn(m,n) / sqrt(m)\n",
    "        ind_failure = 0\n",
    "        for sparsity in range(1,min(m+1, int(n/2))+1):\n",
    "            nb_success = 0         \n",
    "            for i in range(nbtest):\n",
    "                x_hat = signal(n, sparsity)\n",
    "                y = measures(A, x_hat, eps)\n",
    "                a, M, b = cvx_mat(A, y, eps)\n",
    "                sol = solvers.lp(a, M, b)\n",
    "                sol = sol['x']\n",
    "                if dist(x_hat, sol) <= 10*eps+0.001:\n",
    "                    nb_success = nb_success + 1\n",
    "            PTM[m-1, sparsity-1] = nb_success\n",
    "    return PTM"
   ]
  },
  {
   "cell_type": "code",
   "execution_count": 19,
   "metadata": {
    "collapsed": true
   },
   "outputs": [],
   "source": [
    "def frontier(mat):\n",
    "    \"\"\"construction of the phase transition frontier, i.e. first time the number of success goes below nbtest/2\"\"\"\n",
    "    L = []\n",
    "    N = len(mat)\n",
    "    for s in range(int(N/2)):\n",
    "        P = 0\n",
    "        while mat[P,s]<nbtest/2 and P<N-1:\n",
    "            P = P + 1\n",
    "        L.append(P)\n",
    "    return L"
   ]
  },
  {
   "cell_type": "code",
   "execution_count": 24,
   "metadata": {
    "collapsed": false
   },
   "outputs": [
    {
     "name": "stdout",
     "output_type": "stream",
     "text": [
      "line number 20 done\n",
      "line number 40 done\n",
      "line number 60 done\n",
      "line number 80 done\n"
     ]
    }
   ],
   "source": [
    "n, eps, nbtest = 80, 0, 10\n",
    "solvers.options['show_progress'] = False # No logs printed\n",
    "mat = phase_transition_mat(n, eps, nbtest)# construction of the matrix with the number of success among nbtest"
   ]
  },
  {
   "cell_type": "code",
   "execution_count": 25,
   "metadata": {
    "collapsed": false
   },
   "outputs": [
    {
     "data": {
      "text/plain": [
       "<matplotlib.legend.Legend at 0x10873f240>"
      ]
     },
     "execution_count": 25,
     "metadata": {},
     "output_type": "execute_result"
    },
    {
     "data": {
      "image/png": "[encoded data removed]",
      "text/plain": [
       "<matplotlib.figure.Figure at 0x108dd1780>"
      ]
     },
     "metadata": {},
     "output_type": "display_data"
    }
   ],
   "source": [
    "P_min, P_max, S_min, S_max = 0, n, 0, int(n/2)-1\n",
    "fig = plt.imshow(mat[P_min:P_max, S_min:S_max], interpolation=\"gaussian\",  \n",
    "                 aspect='auto', origin = 'lower', extent=[S_min, S_max, P_min, P_max])\n",
    "titre = \"Gaussian measurements\"\n",
    "plt.title(titre)\n",
    "plt.xlabel('sparsity')\n",
    "plt.ylabel('number of measurements')\n",
    "\n",
    "#empirical phase transition\n",
    "X = range(int(n/2))\n",
    "L = frontier(mat)\n",
    "plot(X,L, linewidth=4, color = 'black', label='phase transition')\n",
    "plt.legend(loc=4)\n",
    "\n",
    "#filename = 'noisy_gaussian_{}_eps_{}.png'.format(n, eps)\n",
    "#plt.savefig(filename,bbox_inches='tight')"
   ]
  },
  {
   "cell_type": "markdown",
   "metadata": {},
   "source": [
    "### repeat the construction of the frontier *nb_curves* times to \"smooth it\"\n",
    "\n",
    "> nb_curves: number of phase transition curves constructed. Those curves are then averaged to \"smooth\" the effect of randomness in phase transition and get a \"stable\" phase transition"
   ]
  },
  {
   "cell_type": "code",
   "execution_count": 399,
   "metadata": {
    "collapsed": false
   },
   "outputs": [
    {
     "name": "stdout",
     "output_type": "stream",
     "text": [
      "step 0 done\n",
      "line number 20 done\n",
      "line number 40 done\n",
      "line number 60 done\n",
      "line number 80 done\n",
      "line number 100 done\n",
      "line number 20 done\n",
      "line number 40 done\n",
      "line number 60 done\n",
      "line number 80 done\n",
      "line number 100 done\n",
      "line number 20 done\n",
      "line number 40 done\n",
      "line number 60 done\n",
      "line number 80 done\n",
      "line number 100 done\n",
      "line number 20 done\n",
      "line number 40 done\n",
      "line number 60 done\n",
      "line number 80 done\n",
      "line number 100 done\n",
      "line number 20 done\n",
      "line number 40 done\n",
      "line number 60 done\n",
      "line number 80 done\n",
      "line number 100 done\n",
      "line number 20 done\n",
      "line number 40 done\n",
      "line number 60 done\n",
      "line number 80 done\n",
      "line number 100 done\n",
      "line number 20 done\n",
      "line number 40 done\n",
      "line number 60 done\n",
      "line number 80 done\n",
      "line number 100 done\n",
      "line number 20 done\n",
      "line number 40 done\n",
      "line number 60 done\n",
      "line number 80 done\n",
      "line number 100 done\n",
      "line number 20 done\n",
      "line number 40 done\n",
      "line number 60 done\n",
      "line number 80 done\n",
      "line number 100 done\n",
      "line number 20 done\n",
      "line number 40 done\n",
      "line number 60 done\n",
      "line number 80 done\n",
      "line number 100 done\n",
      "step 10 done\n",
      "line number 20 done\n",
      "line number 40 done\n",
      "line number 60 done\n",
      "line number 80 done\n",
      "line number 100 done\n",
      "line number 20 done\n",
      "line number 40 done\n",
      "line number 60 done\n",
      "line number 80 done\n",
      "line number 100 done\n",
      "line number 20 done\n",
      "line number 40 done\n",
      "line number 60 done\n",
      "line number 80 done\n",
      "line number 100 done\n",
      "line number 20 done\n",
      "line number 40 done\n",
      "line number 60 done\n",
      "line number 80 done\n",
      "line number 100 done\n",
      "line number 20 done\n",
      "line number 40 done\n",
      "line number 60 done\n",
      "line number 80 done\n",
      "line number 100 done\n",
      "line number 20 done\n",
      "line number 40 done\n",
      "line number 60 done\n",
      "line number 80 done\n",
      "line number 100 done\n",
      "line number 20 done\n",
      "line number 40 done\n",
      "line number 60 done\n",
      "line number 80 done\n",
      "line number 100 done\n",
      "line number 20 done\n",
      "line number 40 done\n",
      "line number 60 done\n",
      "line number 80 done\n",
      "line number 100 done\n",
      "line number 20 done\n",
      "line number 40 done\n",
      "line number 60 done\n",
      "line number 80 done\n",
      "line number 100 done\n",
      "line number 20 done\n",
      "line number 40 done\n",
      "line number 60 done\n",
      "line number 80 done\n",
      "line number 100 done\n",
      "step 20 done\n",
      "line number 20 done\n",
      "line number 40 done\n",
      "line number 60 done\n",
      "line number 80 done\n",
      "line number 100 done\n",
      "line number 20 done\n",
      "line number 40 done\n",
      "line number 60 done\n",
      "line number 80 done\n",
      "line number 100 done\n",
      "line number 20 done\n",
      "line number 40 done\n",
      "line number 60 done\n",
      "line number 80 done\n",
      "line number 100 done\n",
      "line number 20 done\n",
      "line number 40 done\n",
      "line number 60 done\n",
      "line number 80 done\n",
      "line number 100 done\n",
      "line number 20 done\n",
      "line number 40 done\n",
      "line number 60 done\n",
      "line number 80 done\n",
      "line number 100 done\n",
      "line number 20 done\n",
      "line number 40 done\n",
      "line number 60 done\n",
      "line number 80 done\n",
      "line number 100 done\n",
      "line number 20 done\n",
      "line number 40 done\n",
      "line number 60 done\n",
      "line number 80 done\n",
      "line number 100 done\n",
      "line number 20 done\n",
      "line number 40 done\n",
      "line number 60 done\n",
      "line number 80 done\n",
      "line number 100 done\n",
      "line number 20 done\n",
      "line number 40 done\n",
      "line number 60 done\n",
      "line number 80 done\n",
      "line number 100 done\n",
      "line number 20 done\n",
      "line number 40 done\n",
      "line number 60 done\n",
      "line number 80 done\n",
      "line number 100 done\n",
      "step 30 done\n",
      "line number 20 done\n",
      "line number 40 done\n",
      "line number 60 done\n",
      "line number 80 done\n",
      "line number 100 done\n",
      "line number 20 done\n",
      "line number 40 done\n",
      "line number 60 done\n",
      "line number 80 done\n",
      "line number 100 done\n",
      "line number 20 done\n",
      "line number 40 done\n",
      "line number 60 done\n",
      "line number 80 done\n",
      "line number 100 done\n",
      "line number 20 done\n",
      "line number 40 done\n",
      "line number 60 done\n",
      "line number 80 done\n",
      "line number 100 done\n",
      "line number 20 done\n",
      "line number 40 done\n",
      "line number 60 done\n",
      "line number 80 done\n",
      "line number 100 done\n",
      "line number 20 done\n",
      "line number 40 done\n",
      "line number 60 done\n",
      "line number 80 done\n",
      "line number 100 done\n",
      "line number 20 done\n",
      "line number 40 done\n",
      "line number 60 done\n",
      "line number 80 done\n",
      "line number 100 done\n",
      "line number 20 done\n",
      "line number 40 done\n",
      "line number 60 done\n",
      "line number 80 done\n",
      "line number 100 done\n",
      "line number 20 done\n",
      "line number 40 done\n",
      "line number 60 done\n",
      "line number 80 done\n",
      "line number 100 done\n",
      "line number 20 done\n",
      "line number 40 done\n",
      "line number 60 done\n",
      "line number 80 done\n",
      "line number 100 done\n"
     ]
    }
   ],
   "source": [
    "#n, eps, nbtest = 100, 0.1, 16\n",
    "nb_curves = 40\n",
    "L = zeros(int(n/2))\n",
    "for i in range(nb_curves):\n",
    "    if (i % 10) == 0:\n",
    "        print('step {} done'.format(i))\n",
    "    mat = phase_transition_mat(n, eps, nbtest)\n",
    "    F = frontier(mat)\n",
    "    L = [sum(a) for a in zip(L,F)] \n",
    "L_gauss = [i/nb_curves for i in L]"
   ]
  },
  {
   "cell_type": "code",
   "execution_count": 403,
   "metadata": {
    "collapsed": false
   },
   "outputs": [],
   "source": [
    "#For next use, save the Gaussian phase transition frontier in a txt file \n",
    "filename = 'gaussian_phase_transition_quantized_cs_{}_eps_{}.txt'.format(n, eps)\n",
    "with open(filename, \"w\") as f:\n",
    "    for item in L_gauss:\n",
    "        f.write('{}\\n'.format(item))\n",
    "f.close()\n",
    "\n",
    "#import the phase transition from the file 'gaussian_phase_transition.txt'\n",
    "#filename = 'gaussian_phase_transition_{}.txt'.format(N)\n",
    "#with open(filename, \"r\") as inputfile:\n",
    "#    L_gauss = list(csv.reader(inputfile))\n",
    "#L_gauss = [int(float(ele[0])) for ele in L_gauss]"
   ]
  },
  {
   "cell_type": "markdown",
   "metadata": {},
   "source": [
    "### Draw the phase transition frontier for quantized CS for Gaussian measurements"
   ]
  },
  {
   "cell_type": "code",
   "execution_count": 407,
   "metadata": {
    "collapsed": false
   },
   "outputs": [
    {
     "data": {
      "image/png": "[encoded data removed]",
      "text/plain": [
       "<matplotlib.figure.Figure at 0x10a033fd0>"
      ]
     },
     "metadata": {},
     "output_type": "display_data"
    }
   ],
   "source": [
    "X = range(len(L_gauss))\n",
    "plot(X,L_gauss, linewidth=4, color = 'blue', label=\"Gaussian phase transition\")\n",
    "titre = \"Quantized CS - Gaussian measurements\"\n",
    "plt.title(titre)\n",
    "plt.xlabel('sparsity')\n",
    "plt.ylabel('number of measurements')\n",
    "plt.legend(loc=4)\n",
    "filename = 'gaussian_phase_transition_quantized_cs_{}_eps_{}.png'.format(n, eps)\n",
    "plt.savefig(filename,bbox_inches='tight')"
   ]
  },
  {
   "cell_type": "code",
   "execution_count": null,
   "metadata": {
    "collapsed": true
   },
   "outputs": [],
   "source": []
  }
 ],
 "metadata": {
  "kernelspec": {
   "display_name": "Python 3",
   "language": "python",
   "name": "python3"
  },
  "language_info": {
   "codemirror_mode": {
    "name": "ipython",
    "version": 3
   },
   "file_extension": ".py",
   "mimetype": "text/x-python",
   "name": "python",
   "nbconvert_exporter": "python",
   "pygments_lexer": "ipython3",
   "version": "3.4.3"
  }
 },
 "nbformat": 4,
 "nbformat_minor": 0
}
