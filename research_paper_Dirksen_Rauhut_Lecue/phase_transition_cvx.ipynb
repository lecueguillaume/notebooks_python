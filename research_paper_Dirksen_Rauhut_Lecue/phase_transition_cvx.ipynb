{
 "cells": [
  {
   "cell_type": "markdown",
   "metadata": {},
   "source": [
    "# Solving BPDN$_\\infty$ for quantized Compressed sensing via the cvxopt package\n",
    "\n",
    "$\\newcommand{\\eps}{\\varepsilon}$\n",
    "$\\newcommand{\\bR}{\\mathbb{R}}$\n",
    "$\\newcommand{\\1}{{\\rm 1}\\kern-0.24em{\\rm I}}$\n",
    "$\\newcommand{\\inr}[1]{\\bigl< #1 \\bigr>}$"
   ]
  },
  {
   "cell_type": "markdown",
   "metadata": {},
   "source": [
    "This notebooks is a simulations support for Section~4 of paper\n",
    "\n",
    "> Sjoerd, Dirksen and Guillaume, Lecué and Holger, Rauhut, \"ON THE GAP BETWEEN RIP-PROPERTIES AND SPARSE RECOVERY CONDITIONS\"\n",
    "\n",
    "We refer the reader to <a href=\"http://lecueguillaume.github.io/assets/gap_rip_reconstruction.pdf\"> paper </a> for more details"
   ]
  },
  {
   "cell_type": "code",
   "execution_count": 408,
   "metadata": {
    "collapsed": false
   },
   "outputs": [
    {
     "name": "stdout",
     "output_type": "stream",
     "text": [
      "Populating the interactive namespace from numpy and matplotlib\n"
     ]
    },
    {
     "name": "stderr",
     "output_type": "stream",
     "text": [
      "WARNING: pylab import has clobbered these variables: ['e', 'mat', 'matrix', 'f', 'log', 'dist']\n",
      "`%matplotlib` prevents importing * from pylab and numpy\n"
     ]
    }
   ],
   "source": [
    "from __future__ import division\n",
    "%pylab inline"
   ]
  },
  {
   "cell_type": "markdown",
   "metadata": {},
   "source": [
    "# Import cvxopt library for solving our optimization problem"
   ]
  },
  {
   "cell_type": "code",
   "execution_count": 409,
   "metadata": {
    "collapsed": false
   },
   "outputs": [],
   "source": [
    "from cvxopt import solvers, matrix, spdiag, log, spmatrix, sparse # writting '%pylab inline' after those lines will cause trouble in the matrix method"
   ]
  },
  {
   "cell_type": "markdown",
   "metadata": {},
   "source": [
    "### matrix objects in cvxopt\n",
    "cvxopt has its own *matrix* object which is different from the numpy's one"
   ]
  },
  {
   "cell_type": "code",
   "execution_count": 410,
   "metadata": {
    "collapsed": false
   },
   "outputs": [],
   "source": [
    "A = matrix([1.0, 2.0, 3.0, 4.0, 5.0, 6.0], (2,3))\n",
    "B = matrix([ [1.0, 2.0], [3.0, 4.0] ])\n",
    "C = matrix([ [A] ,[B] ])\n",
    "D = matrix(range(16),(4,4))\n",
    "E = matrix(ones(10))\n",
    "F = matrix(randn(2,3))\n",
    "G = matrix(zeros(2))\n",
    "#print(A, B, C, D, E, F, G)\n",
    "#print(A.size)"
   ]
  },
  {
   "cell_type": "code",
   "execution_count": 411,
   "metadata": {
    "collapsed": false
   },
   "outputs": [],
   "source": [
    "A = matrix([[1,2,3],[4,5,6]])\n",
    "B = array(A)\n",
    "C = matrix(A)\n",
    "#print(A - C)"
   ]
  },
  {
   "cell_type": "code",
   "execution_count": 412,
   "metadata": {
    "collapsed": false
   },
   "outputs": [],
   "source": [
    "#print(A, '-'*10, '\\n',  A[1,:], '-'*10, '\\n', A[::-1,::-1])\n",
    "D = matrix(range(16))\n",
    "#print(D[0:8], '-'*3, '\\n', D[8:16])"
   ]
  },
  {
   "cell_type": "markdown",
   "metadata": {
    "collapsed": false
   },
   "source": [
    "### sparse matrix objects\n",
    "cvxopti has its own *sparse matrix* object which is different from the scipy's one"
   ]
  },
  {
   "cell_type": "code",
   "execution_count": 413,
   "metadata": {
    "collapsed": false
   },
   "outputs": [],
   "source": [
    "E = spmatrix([1, 2], [0, 1], [0, 1], (4,2)) #(value, row, column)\n",
    "B = matrix([ [1, 2], [3, 4] ])\n",
    "F = sparse([ [B, B], [E] ])\n",
    "G = spdiag([B, -B, 1, 2])\n",
    "H = spdiag([1]*2)\n",
    "K = matrix([B, -B])\n",
    "K2 = matrix([[B], [-B]])\n",
    "J = matrix([[B,-B, -H],[-B, B, -H]])\n",
    "#print(E, '-'*30, '\\n', F, '-'*30, '\\n', G, '-'*30, '\\n', H)\n",
    "#print(K, '-'*30, '\\n', K2, '-'*30, '\\n', J)"
   ]
  },
  {
   "cell_type": "markdown",
   "metadata": {},
   "source": [
    "# CVXOPT non-linear convex optimization solver\n",
    "\n",
    "Examples taken from <a href=\"http://cvxopt.org/userguide/solvers.html#problems-with-nonlinear-objectives\">Non-linear convex optimization</a> and <a href=\"http://www.xavierdupre.fr/app/ensae_teaching_cs/helpsphinx3/notebooks/td1a_cenonce_session9.html\"> Xavier's TD9 </a>:\n",
    "\n",
    "> minimize $\\sum -\\log(x_i)$\n",
    ">\n",
    "> subject to $Ax=b$\n",
    "\n",
    "*solvers.cp* solves non-linear convex optimization problems with twices differentiable objective and constraint functions with closed form solutions for the gradient and the Hessian"
   ]
  },
  {
   "cell_type": "code",
   "execution_count": 148,
   "metadata": {
    "collapsed": false
   },
   "outputs": [],
   "source": [
    "def acent(A, b):\n",
    "    m, n = A.size\n",
    "    def F(x=None, z=None):\n",
    "        if x is None:\n",
    "            # l'algorithme fonctionne de manière itérative\n",
    "            # il faut choisir un x initial, c'est ce qu'on fait ici\n",
    "            return 0, matrix(1.0, (n,1))\n",
    "        if min(x) <= 0.0:\n",
    "            return None   # cas impossible\n",
    "        # ici commence le code qui définit ce qu'est une itération\n",
    "        f = -sum(log(x))\n",
    "        Df = -(x**-1).T\n",
    "        if z is None: return f, Df\n",
    "        H = spdiag(z[0] * x**(-2))\n",
    "        return f, Df, H\n",
    "    return solvers.cp(F, A=A, b=b)['x']"
   ]
  },
  {
   "cell_type": "code",
   "execution_count": 149,
   "metadata": {
    "collapsed": false
   },
   "outputs": [],
   "source": [
    "A = matrix ( [[1.0,2.0]] ).T\n",
    "b = matrix ( [[ 1.0 ]] )\n",
    "# print(acent(A,b))"
   ]
  },
  {
   "cell_type": "code",
   "execution_count": 150,
   "metadata": {
    "collapsed": false
   },
   "outputs": [],
   "source": [
    "A, b = matrix(randn(5,10)), matrix(range(5), tc='d')\n",
    "solvers.options['show_progress'] = False # No logs printed\n",
    "x = acent(A,b)\n",
    "# print(x)"
   ]
  },
  {
   "cell_type": "markdown",
   "metadata": {
    "collapsed": false
   },
   "source": [
    "# Solving BPDN$_\\infty$ via linear programming\n",
    "\n",
    "Given a measurements matrix $A\\in\\bR^{m\\times n}$ and $y=A\\hat x + e$ where $||e||_\\infty\\leq \\eps$, the Basis Pursuit Denoising program  BPDN$_\\infty$ is the procedure\n",
    "\n",
    "$$\n",
    "min\\big( ||t||_1: ||At-y||_\\infty\\leq \\eps\\big) \\hspace{2cm} (P).\n",
    "$$\n",
    "\n",
    "This procedure can be recast as a linear program by introducing slack variables $z^+,z^-\\in\\bR^n$: problem~(P) is equivalent to\n",
    "\n",
    "> $$\\min_{z^+,z^-\\in\\bR^n} \\sum_{j=1}^n z_i^+ + z_i^-$$\n",
    "\n",
    "> subject to $$-\\eps\\leq [A|-A]\\left[\\begin{array}{c} z^+\\\\ z^-\\end{array}\\right]-y\\leq \\eps$$\n",
    "\n",
    "> and $$\\left[\\begin{array}{c} z^+\\\\ z^-\\end{array}\\right]\\geq 0$$\n",
    "\n",
    "This is a linear program:\n",
    "\n",
    "> $$\\min_{\\left[\\begin{array}{c} z^+\\\\ z^-\\end{array}\\right]\\in\\R^{2n}} \\inr{a,\\left[\\begin{array}{c} z^+\\\\ z^-\\end{array}\\right]}$$\n",
    "\n",
    "> subject to $$ M \\left[\\begin{array}{c} z^+\\\\ z^-\\end{array}\\right] \\leq b$$\n",
    "\n",
    "where\n",
    "\n",
    "$$a = \\left[\\begin{array}{c} \\1 \\\\ \\1 \\end{array}\\right],\\hspace{1cm} M = \\left[\\begin{array}{c}[A|-A]\\\\ [-A|A]\\\\ [-I_n|0]\\\\ [0|-I_n] \\end{array}\\right],\\hspace{1cm} b = \\left[\\begin{array}{c}y + \\eps \\1\\\\ -y+\\eps\\1 \\\\ 0 \\\\ 0 \\end{array}\\right]$$\n",
    "\n",
    "Solution to (P) is recovered via $t= z^+-z^-$."
   ]
  },
  {
   "cell_type": "markdown",
   "metadata": {
    "collapsed": false
   },
   "source": [
    "### construction of cvxopt matrices $a,M,b$"
   ]
  },
  {
   "cell_type": "code",
   "execution_count": 297,
   "metadata": {
    "collapsed": false
   },
   "outputs": [],
   "source": [
    "def cvx_mat(A, y, eps):\n",
    "    '''A, y: numpy array or cvx matrices\n",
    "    eps : positive real number'''\n",
    "    A = matrix(A)\n",
    "    y = matrix(y)\n",
    "    m, n = matrix(A).size\n",
    "    # matrix a\n",
    "    a = matrix(ones(2*n))\n",
    "    # matrix M\n",
    "    I_n = spdiag([1]*n)\n",
    "    z_n = spdiag([0]*n)\n",
    "    M = matrix([[A,-A, -I_n, z_n],[-A, A, z_n, -I_n]])\n",
    "    # matrix b\n",
    "    un_m = matrix(ones(m))\n",
    "    zero_n = matrix(zeros(n))\n",
    "    b = matrix([y + eps*un_m, -y + eps*un_m, zero_n, zero_n])\n",
    "    return a, M, b"
   ]
  },
  {
   "cell_type": "markdown",
   "metadata": {},
   "source": [
    "### construction of sparse signals in $\\R^n$ and measurements in $\\R^m$"
   ]
  },
  {
   "cell_type": "code",
   "execution_count": 346,
   "metadata": {
    "collapsed": false
   },
   "outputs": [],
   "source": [
    "def signal(n, sparsity):\n",
    "    sel = random.permutation(n)\n",
    "    sel = sel[0:sparsity]   # indices of the nonzero elements of xsharp\n",
    "    xsharp = zeros(n)\n",
    "    xsharp[sel] = 1\n",
    "    return xsharp\n",
    "\n",
    "def measures(A, signal, eps):\n",
    "    m, n = A.shape\n",
    "    e = random.uniform(-eps, eps, (m,1))\n",
    "    return [sum(a) for a in zip(dot(A, signal), e)]"
   ]
  },
  {
   "cell_type": "code",
   "execution_count": 347,
   "metadata": {
    "collapsed": false
   },
   "outputs": [],
   "source": [
    "m , n, sparsity, eps = 10, 30, 3, 0\n",
    "A, x_hat = randn(m, n), signal(n, sparsity)\n",
    "y = measures(A, x_hat, eps)"
   ]
  },
  {
   "cell_type": "code",
   "execution_count": 348,
   "metadata": {
    "collapsed": false
   },
   "outputs": [],
   "source": [
    "a, M, b = cvx_mat(A, y, eps)\n",
    "#print(a, M, b)"
   ]
  },
  {
   "cell_type": "markdown",
   "metadata": {},
   "source": [
    "### cvxopt linear solver  <a href=\"http://cvxopt.org/examples/tutorial/lp.html\"> cvx lp </a>"
   ]
  },
  {
   "cell_type": "code",
   "execution_count": 364,
   "metadata": {
    "collapsed": false
   },
   "outputs": [],
   "source": [
    "sol = solvers.lp(a, M, b)\n",
    "sol = sol['x']\n",
    "x_recover = sol[0:n] - sol[n:2*n]"
   ]
  },
  {
   "cell_type": "code",
   "execution_count": 365,
   "metadata": {
    "collapsed": false
   },
   "outputs": [
    {
     "data": {
      "text/plain": [
       "4.0079121301594162e-07"
      ]
     },
     "execution_count": 365,
     "metadata": {},
     "output_type": "execute_result"
    }
   ],
   "source": [
    "norm(matrix(x_hat) - x_recover,2)"
   ]
  },
  {
   "cell_type": "code",
   "execution_count": 372,
   "metadata": {
    "collapsed": true
   },
   "outputs": [],
   "source": [
    "def dist(x_hat, sol):\n",
    "    n = len(x_hat)\n",
    "    x_recover = sol[0:n] - sol[n:2*n]\n",
    "    return norm(matrix(x_hat) - x_recover,2)"
   ]
  },
  {
   "cell_type": "markdown",
   "metadata": {},
   "source": [
    "# Phase transition diagram for BPDN$_\\infty$\n",
    "\n",
    "We say that the reconstruction is a success when $||x_{hat}-x_{recover}||_2\\leq 10\\eps + 0.001$"
   ]
  },
  {
   "cell_type": "code",
   "execution_count": 394,
   "metadata": {
    "collapsed": true
   },
   "outputs": [],
   "source": [
    "def phase_transition_mat(n, eps, nbtest):\n",
    "    \"\"\"return a n.n/2 matrix with the number of reconstruction success for every  1\\leq m \\leq n measurements \n",
    "    and sparsity 1\\leq sparsity \\leq n/2\n",
    "    n : ambiant dimension of the signals\n",
    "    eps : infinite norm of the additive noise (= twice the size of cells in CS quantization)\n",
    "    nbtest : number of tests for each pixel\"\"\"\n",
    "    PTM = zeros((n,int(n/2)))\n",
    "    set_ind_failure = []\n",
    "    for m in range(1,n+1):#construct one line of the Phase transition matrix for a given number of measurements m\n",
    "        if (m % 20) == 0:\n",
    "            print(\"line number {} done\".format(m))\n",
    "        A = randn(m,n) / sqrt(m)\n",
    "        ind_failure = 0\n",
    "        for sparsity in range(1,min(m+1, int(n/2))+1):\n",
    "            nb_success = 0         \n",
    "            for i in range(nbtest):\n",
    "                x_hat = signal(n, sparsity)\n",
    "                y = measures(A, x_hat, eps)\n",
    "                a, M, b = cvx_mat(A, y, eps)\n",
    "                sol = solvers.lp(a, M, b)\n",
    "                sol = sol['x']\n",
    "                if dist(x_hat, sol) <= 10*eps+0.001:\n",
    "                    nb_success = nb_success + 1\n",
    "            PTM[m-1, sparsity-1] = nb_success\n",
    "    return PTM"
   ]
  },
  {
   "cell_type": "code",
   "execution_count": 395,
   "metadata": {
    "collapsed": true
   },
   "outputs": [],
   "source": [
    "def frontier(mat):\n",
    "    \"\"\"construction of the phase transition frontier, i.e. first time the number of success goes below nbtest/2\"\"\"\n",
    "    L = []\n",
    "    N = len(mat)\n",
    "    for s in range(int(N/2)):\n",
    "        P = 0\n",
    "        while mat[P,s]<nbtest/2 and P<N-1:\n",
    "            P = P + 1\n",
    "        L.append(P)\n",
    "    return L"
   ]
  },
  {
   "cell_type": "code",
   "execution_count": 396,
   "metadata": {
    "collapsed": false
   },
   "outputs": [
    {
     "name": "stdout",
     "output_type": "stream",
     "text": [
      "line number 20 done\n",
      "line number 40 done\n",
      "line number 60 done\n",
      "line number 80 done\n",
      "line number 100 done\n"
     ]
    }
   ],
   "source": [
    "n, eps, nbtest = 100, 0.1, 16\n",
    "mat = phase_transition_mat(n, eps, nbtest)# construction of the matrix with the number of success among nbtest"
   ]
  },
  {
   "cell_type": "code",
   "execution_count": 398,
   "metadata": {
    "collapsed": false
   },
   "outputs": [
    {
     "data": {
      "image/png": "[encoded data removed]",
      "text/plain": [
       "<matplotlib.figure.Figure at 0x109e2aa58>"
      ]
     },
     "metadata": {},
     "output_type": "display_data"
    }
   ],
   "source": [
    "P_min, P_max, S_min, S_max = 0, n, 0, int(n/2)-1\n",
    "fig = plt.imshow(mat[P_min:P_max, S_min:S_max], interpolation=\"gaussian\",  \n",
    "                 aspect='auto', origin = 'lower', extent=[S_min, S_max, P_min, P_max])\n",
    "titre = \"Gaussian measurements\"\n",
    "plt.title(titre)\n",
    "plt.xlabel('sparsity')\n",
    "plt.ylabel('number of measurements')\n",
    "\n",
    "#empirical phase transition\n",
    "X = range(int(n/2))\n",
    "L = frontier(mat)\n",
    "plot(X,L, linewidth=4, color = 'black', label='phase transition')\n",
    "plt.legend(loc=4)\n",
    "\n",
    "#filename = 'noisy_gaussian_{}_eps_{}.png'.format(n, eps)\n",
    "#plt.savefig(filename,bbox_inches='tight')"
   ]
  },
  {
   "cell_type": "markdown",
   "metadata": {},
   "source": [
    "### repeat the construction of the frontier *nb_curves* times to \"smooth it\"\n",
    "\n",
    "> nb_curves: number of phase transition curves constructed. Those curves are then averaged to \"smooth\" the effect of randomness in phase transition and get a \"stable\" phase transition"
   ]
  },
  {
   "cell_type": "code",
   "execution_count": 399,
   "metadata": {
    "collapsed": false
   },
   "outputs": [
    {
     "name": "stdout",
     "output_type": "stream",
     "text": [
      "step 0 done\n",
      "line number 20 done\n",
      "line number 40 done\n",
      "line number 60 done\n",
      "line number 80 done\n",
      "line number 100 done\n",
      "line number 20 done\n",
      "line number 40 done\n",
      "line number 60 done\n",
      "line number 80 done\n",
      "line number 100 done\n",
      "line number 20 done\n",
      "line number 40 done\n",
      "line number 60 done\n",
      "line number 80 done\n",
      "line number 100 done\n",
      "line number 20 done\n",
      "line number 40 done\n",
      "line number 60 done\n",
      "line number 80 done\n",
      "line number 100 done\n",
      "line number 20 done\n",
      "line number 40 done\n",
      "line number 60 done\n",
      "line number 80 done\n",
      "line number 100 done\n",
      "line number 20 done\n",
      "line number 40 done\n",
      "line number 60 done\n",
      "line number 80 done\n",
      "line number 100 done\n",
      "line number 20 done\n",
      "line number 40 done\n",
      "line number 60 done\n",
      "line number 80 done\n",
      "line number 100 done\n",
      "line number 20 done\n",
      "line number 40 done\n",
      "line number 60 done\n",
      "line number 80 done\n",
      "line number 100 done\n",
      "line number 20 done\n",
      "line number 40 done\n",
      "line number 60 done\n",
      "line number 80 done\n",
      "line number 100 done\n",
      "line number 20 done\n",
      "line number 40 done\n",
      "line number 60 done\n",
      "line number 80 done\n",
      "line number 100 done\n",
      "step 10 done\n",
      "line number 20 done\n",
      "line number 40 done\n",
      "line number 60 done\n",
      "line number 80 done\n",
      "line number 100 done\n",
      "line number 20 done\n",
      "line number 40 done\n",
      "line number 60 done\n",
      "line number 80 done\n",
      "line number 100 done\n",
      "line number 20 done\n",
      "line number 40 done\n",
      "line number 60 done\n",
      "line number 80 done\n",
      "line number 100 done\n",
      "line number 20 done\n",
      "line number 40 done\n",
      "line number 60 done\n",
      "line number 80 done\n",
      "line number 100 done\n",
      "line number 20 done\n",
      "line number 40 done\n",
      "line number 60 done\n",
      "line number 80 done\n",
      "line number 100 done\n",
      "line number 20 done\n",
      "line number 40 done\n",
      "line number 60 done\n",
      "line number 80 done\n",
      "line number 100 done\n",
      "line number 20 done\n",
      "line number 40 done\n",
      "line number 60 done\n",
      "line number 80 done\n",
      "line number 100 done\n",
      "line number 20 done\n",
      "line number 40 done\n",
      "line number 60 done\n",
      "line number 80 done\n",
      "line number 100 done\n",
      "line number 20 done\n",
      "line number 40 done\n",
      "line number 60 done\n",
      "line number 80 done\n",
      "line number 100 done\n",
      "line number 20 done\n",
      "line number 40 done\n",
      "line number 60 done\n",
      "line number 80 done\n",
      "line number 100 done\n",
      "step 20 done\n",
      "line number 20 done\n",
      "line number 40 done\n",
      "line number 60 done\n",
      "line number 80 done\n",
      "line number 100 done\n",
      "line number 20 done\n",
      "line number 40 done\n",
      "line number 60 done\n",
      "line number 80 done\n",
      "line number 100 done\n",
      "line number 20 done\n",
      "line number 40 done\n",
      "line number 60 done\n",
      "line number 80 done\n",
      "line number 100 done\n",
      "line number 20 done\n",
      "line number 40 done\n",
      "line number 60 done\n",
      "line number 80 done\n",
      "line number 100 done\n",
      "line number 20 done\n",
      "line number 40 done\n",
      "line number 60 done\n",
      "line number 80 done\n",
      "line number 100 done\n",
      "line number 20 done\n",
      "line number 40 done\n",
      "line number 60 done\n",
      "line number 80 done\n",
      "line number 100 done\n",
      "line number 20 done\n",
      "line number 40 done\n",
      "line number 60 done\n",
      "line number 80 done\n",
      "line number 100 done\n",
      "line number 20 done\n",
      "line number 40 done\n",
      "line number 60 done\n",
      "line number 80 done\n",
      "line number 100 done\n",
      "line number 20 done\n",
      "line number 40 done\n",
      "line number 60 done\n",
      "line number 80 done\n",
      "line number 100 done\n",
      "line number 20 done\n",
      "line number 40 done\n",
      "line number 60 done\n",
      "line number 80 done\n",
      "line number 100 done\n",
      "step 30 done\n",
      "line number 20 done\n",
      "line number 40 done\n",
      "line number 60 done\n",
      "line number 80 done\n",
      "line number 100 done\n",
      "line number 20 done\n",
      "line number 40 done\n",
      "line number 60 done\n",
      "line number 80 done\n",
      "line number 100 done\n",
      "line number 20 done\n",
      "line number 40 done\n",
      "line number 60 done\n",
      "line number 80 done\n",
      "line number 100 done\n",
      "line number 20 done\n",
      "line number 40 done\n",
      "line number 60 done\n",
      "line number 80 done\n",
      "line number 100 done\n",
      "line number 20 done\n",
      "line number 40 done\n",
      "line number 60 done\n",
      "line number 80 done\n",
      "line number 100 done\n",
      "line number 20 done\n",
      "line number 40 done\n",
      "line number 60 done\n",
      "line number 80 done\n",
      "line number 100 done\n",
      "line number 20 done\n",
      "line number 40 done\n",
      "line number 60 done\n",
      "line number 80 done\n",
      "line number 100 done\n",
      "line number 20 done\n",
      "line number 40 done\n",
      "line number 60 done\n",
      "line number 80 done\n",
      "line number 100 done\n",
      "line number 20 done\n",
      "line number 40 done\n",
      "line number 60 done\n",
      "line number 80 done\n",
      "line number 100 done\n",
      "line number 20 done\n",
      "line number 40 done\n",
      "line number 60 done\n",
      "line number 80 done\n",
      "line number 100 done\n"
     ]
    }
   ],
   "source": [
    "#n, eps, nbtest = 100, 0.1, 16\n",
    "nb_curves = 40\n",
    "L = zeros(int(n/2))\n",
    "for i in range(nb_curves):\n",
    "    if (i % 10) == 0:\n",
    "        print('step {} done'.format(i))\n",
    "    mat = phase_transition_mat(n, eps, nbtest)\n",
    "    F = frontier(mat)\n",
    "    L = [sum(a) for a in zip(L,F)] \n",
    "L_gauss = [i/nb_curves for i in L]"
   ]
  },
  {
   "cell_type": "code",
   "execution_count": 403,
   "metadata": {
    "collapsed": false
   },
   "outputs": [],
   "source": [
    "#For next use, save the Gaussian phase transition frontier in a txt file \n",
    "filename = 'gaussian_phase_transition_quantized_cs_{}_eps_{}.txt'.format(n, eps)\n",
    "with open(filename, \"w\") as f:\n",
    "    for item in L_gauss:\n",
    "        f.write('{}\\n'.format(item))\n",
    "f.close()\n",
    "\n",
    "#import the phase transition from the file 'gaussian_phase_transition.txt'\n",
    "#filename = 'gaussian_phase_transition_{}.txt'.format(N)\n",
    "#with open(filename, \"r\") as inputfile:\n",
    "#    L_gauss = list(csv.reader(inputfile))\n",
    "#L_gauss = [int(float(ele[0])) for ele in L_gauss]"
   ]
  },
  {
   "cell_type": "markdown",
   "metadata": {},
   "source": [
    "### Draw the phase transition frontier for quantized CS for Gaussian measurements"
   ]
  },
  {
   "cell_type": "code",
   "execution_count": 407,
   "metadata": {
    "collapsed": false
   },
   "outputs": [
    {
     "data": {
      "image/png": "[encoded data removed]",
      "text/plain": [
       "<matplotlib.figure.Figure at 0x10a033fd0>"
      ]
     },
     "metadata": {},
     "output_type": "display_data"
    }
   ],
   "source": [
    "X = range(len(L_gauss))\n",
    "plot(X,L_gauss, linewidth=4, color = 'blue', label=\"Gaussian phase transition\")\n",
    "titre = \"Quantized CS - Gaussian measurements\"\n",
    "plt.title(titre)\n",
    "plt.xlabel('sparsity')\n",
    "plt.ylabel('number of measurements')\n",
    "plt.legend(loc=4)\n",
    "filename = 'gaussian_phase_transition_quantized_cs_{}_eps_{}.png'.format(n, eps)\n",
    "plt.savefig(filename,bbox_inches='tight')"
   ]
  },
  {
   "cell_type": "code",
   "execution_count": null,
   "metadata": {
    "collapsed": true
   },
   "outputs": [],
   "source": []
  }
 ],
 "metadata": {
  "kernelspec": {
   "display_name": "Python 3",
   "language": "python",
   "name": "python3"
  },
  "language_info": {
   "codemirror_mode": {
    "name": "ipython",
    "version": 3
   },
   "file_extension": ".py",
   "mimetype": "text/x-python",
   "name": "python",
   "nbconvert_exporter": "python",
   "pygments_lexer": "ipython3",
   "version": "3.4.3"
  }
 },
 "nbformat": 4,
 "nbformat_minor": 0
}
